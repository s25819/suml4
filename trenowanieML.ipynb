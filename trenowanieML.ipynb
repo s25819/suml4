{
 "cells": [
  {
   "cell_type": "markdown",
   "id": "7a96f4da",
   "metadata": {},
   "source": [
    "### 1. Import bibliotek"
   ]
  },
  {
   "cell_type": "code",
   "execution_count": 2,
   "id": "tribal-advertising",
   "metadata": {},
   "outputs": [],
   "source": [
    "import pandas as pd\n",
    "from sklearn.preprocessing import LabelEncoder\n",
    "from sklearn.model_selection import train_test_split\n",
    "from sklearn.ensemble import RandomForestClassifier\n",
    "import pickle"
   ]
  },
  {
   "cell_type": "markdown",
   "id": "2feb2c32",
   "metadata": {},
   "source": [
    "### 2. Przygotowanie modelu"
   ]
  },
  {
   "cell_type": "markdown",
   "id": "3d449777",
   "metadata": {},
   "source": [
    "Wykorzystamy kod z poprzednich zajęć do wytrenowania modelu szacującego zmienną \"survived\""
   ]
  },
  {
   "cell_type": "code",
   "execution_count": 6,
   "id": "forced-reporter",
   "metadata": {},
   "outputs": [
    {
     "name": "stdout",
     "output_type": "stream",
     "text": [
      "Random Forest: 0.980309423347398\n"
     ]
    },
    {
     "name": "stderr",
     "output_type": "stream",
     "text": [
      "/var/folders/76/jdhqv39d789cmfkpq8jvhkkw0000gn/T/ipykernel_38400/803875257.py:7: FutureWarning: A value is trying to be set on a copy of a DataFrame or Series through chained assignment using an inplace method.\n",
      "The behavior will change in pandas 3.0. This inplace method will never work because the intermediate object on which we are setting values always behaves as a copy.\n",
      "\n",
      "For example, when doing 'df[col].method(value, inplace=True)', try using 'df.method({col: value}, inplace=True)' or df[col] = df[col].method(value) instead, to perform the operation inplace on the original object.\n",
      "\n",
      "\n",
      "  data[\"Age\"].fillna((data[\"Age\"].mean()), inplace=True) # wypełni nam brakujące informacje średnią\n"
     ]
    }
   ],
   "source": [
    "base_data = pd.read_csv(\"datasets/DSP_1.csv\")\n",
    "base_data.columns\n",
    "\n",
    "cols = [\"Survived\", \"Pclass\", \"Sex\", \"Age\", \"SibSp\", \"Parch\", \"Fare\", \"Embarked\"]\n",
    "data = base_data[cols].copy()\n",
    "\n",
    "data[\"Age\"].fillna((data[\"Age\"].mean()), inplace=True) # wypełni nam brakujące informacje średnią\n",
    "data.dropna(subset=['Embarked'], inplace=True)\n",
    "\n",
    "encoder = LabelEncoder()\n",
    "data.loc[:,\"Sex\"] = encoder.fit_transform(data.loc[:,\"Sex\"])\n",
    "data.loc[:,\"Embarked\"] = encoder.fit_transform(data.loc[:,\"Embarked\"])\n",
    "\n",
    "y = data.iloc[:,0]\n",
    "x = data.iloc[:,1:8]\n",
    "X_train, X_test, y_train, y_test = train_test_split(x, y, test_size = 0.2, random_state = 0)\n",
    "\n",
    "def model(X_train, y_train):\n",
    "    \n",
    "    forest = RandomForestClassifier (n_estimators=20, random_state=0)\n",
    "    forest.fit(X_train,y_train)\n",
    "    print(\"Random Forest: {0}\".format(forest.score(X_train,y_train)))\n",
    "    \n",
    "    return forest\n",
    "\n",
    "forest = model(X_train,y_train)"
   ]
  },
  {
   "cell_type": "code",
   "execution_count": 7,
   "id": "d5b1af80",
   "metadata": {},
   "outputs": [
    {
     "name": "stdout",
     "output_type": "stream",
     "text": [
      "[0]\n",
      "[1]\n"
     ]
    },
    {
     "name": "stderr",
     "output_type": "stream",
     "text": [
      "/Users/czarek/work/suml4/.suml4/lib/python3.12/site-packages/sklearn/utils/validation.py:2739: UserWarning: X does not have valid feature names, but RandomForestClassifier was fitted with feature names\n",
      "  warnings.warn(\n",
      "/Users/czarek/work/suml4/.suml4/lib/python3.12/site-packages/sklearn/utils/validation.py:2739: UserWarning: X does not have valid feature names, but RandomForestClassifier was fitted with feature names\n",
      "  warnings.warn(\n"
     ]
    }
   ],
   "source": [
    "my_data =[\n",
    "            [\n",
    "             1,  #\"Pclass\"\n",
    "             1,  #\"Sex\", Sex 0 = Female, 1 = Male\n",
    "             50,  #\"Age\", Age\n",
    "             0,  #\"SibSp\"\n",
    "             0,  #\"Parch\"\n",
    "             0,  #\"Fare\", \n",
    "             2,  #\"Embarked\"\n",
    "    ]\n",
    "]\n",
    "\n",
    "print(forest.predict(my_data))\n",
    "\n",
    "my_data =[\n",
    "            [\n",
    "             1,  #\"Pclass\"\n",
    "             0,  #\"Sex\", Sex 0 = Female, 1 = Male\n",
    "             20,  #\"Age\", Age\n",
    "             1,  #\"SibSp\"\n",
    "             0,  #\"Parch\"\n",
    "             0,  #\"Fare\", \n",
    "             2,  #\"Embarked\"\n",
    "    ]\n",
    "]\n",
    "\n",
    "print(forest.predict(my_data))"
   ]
  },
  {
   "cell_type": "markdown",
   "id": "53d1e31a",
   "metadata": {},
   "source": [
    "Teraz jesteśmy gotowi do wyeksportowania naszego modelu do .pkl"
   ]
  },
  {
   "cell_type": "code",
   "execution_count": 8,
   "id": "8f6efed7",
   "metadata": {},
   "outputs": [],
   "source": [
    "filename = \"model.sv\"\n",
    "pickle.dump(forest, open(filename,'wb'))"
   ]
  },
  {
   "cell_type": "markdown",
   "id": "9047beea",
   "metadata": {},
   "source": [
    "Dalszą część pracy wykonujemy już poza Jupyter Notebook. Przenosimy się do pliku app.py."
   ]
  }
 ],
 "metadata": {
  "kernelspec": {
   "display_name": ".suml4 (3.12.6)",
   "language": "python",
   "name": "python3"
  },
  "language_info": {
   "codemirror_mode": {
    "name": "ipython",
    "version": 3
   },
   "file_extension": ".py",
   "mimetype": "text/x-python",
   "name": "python",
   "nbconvert_exporter": "python",
   "pygments_lexer": "ipython3",
   "version": "3.12.6"
  }
 },
 "nbformat": 4,
 "nbformat_minor": 5
}
